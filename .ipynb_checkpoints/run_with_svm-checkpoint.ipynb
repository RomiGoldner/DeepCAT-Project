{
 "cells": [
  {
   "cell_type": "code",
   "execution_count": 1,
   "id": "ec4ae20b-bd09-4987-8688-6ec60092985e",
   "metadata": {},
   "outputs": [],
   "source": [
    "%load_ext autoreload\n",
    "%autoreload 2"
   ]
  },
  {
   "cell_type": "code",
   "execution_count": 2,
   "id": "16242af1-1c71-4163-a3b2-198dc9ddd0b6",
   "metadata": {},
   "outputs": [
    {
     "ename": "ModuleNotFoundError",
     "evalue": "No module named 'tensorflow'",
     "output_type": "error",
     "traceback": [
      "\u001b[0;31m---------------------------------------------------------------------------\u001b[0m",
      "\u001b[0;31mModuleNotFoundError\u001b[0m                       Traceback (most recent call last)",
      "Input \u001b[0;32mIn [2]\u001b[0m, in \u001b[0;36m<module>\u001b[0;34m\u001b[0m\n\u001b[0;32m----> 1\u001b[0m \u001b[38;5;28;01mimport\u001b[39;00m \u001b[38;5;21;01mDeepCAT\u001b[39;00m \n\u001b[1;32m      2\u001b[0m \u001b[38;5;28;01mfrom\u001b[39;00m \u001b[38;5;21;01mDeepCAT\u001b[39;00m \u001b[38;5;28;01mimport\u001b[39;00m batchTrain\n",
      "File \u001b[0;32m~/projects/courses/DeepCAT/DeepCAT.py:5\u001b[0m, in \u001b[0;36m<module>\u001b[0;34m\u001b[0m\n\u001b[1;32m      1\u001b[0m \u001b[38;5;66;03m#! usr/bin/python\u001b[39;00m\n\u001b[1;32m      2\u001b[0m \u001b[38;5;66;03m## CNN model for tumor-specific CDR3 sequence prediction\u001b[39;00m\n\u001b[1;32m      4\u001b[0m \u001b[38;5;28;01mimport\u001b[39;00m \u001b[38;5;21;01msys\u001b[39;00m\u001b[38;5;241m,\u001b[39m\u001b[38;5;21;01mos\u001b[39;00m\u001b[38;5;241m,\u001b[39m\u001b[38;5;21;01mre\u001b[39;00m\u001b[38;5;241m,\u001b[39m\u001b[38;5;21;01mcsv\u001b[39;00m\u001b[38;5;241m,\u001b[39m\u001b[38;5;21;01mpathlib\u001b[39;00m\n\u001b[0;32m----> 5\u001b[0m \u001b[38;5;28;01mimport\u001b[39;00m \u001b[38;5;21;01mtensorflow\u001b[39;00m \u001b[38;5;28;01mas\u001b[39;00m \u001b[38;5;21;01mtf\u001b[39;00m\n\u001b[1;32m      6\u001b[0m \u001b[38;5;28;01mimport\u001b[39;00m \u001b[38;5;21;01mnumpy\u001b[39;00m \u001b[38;5;28;01mas\u001b[39;00m \u001b[38;5;21;01mnp\u001b[39;00m\n\u001b[1;32m      7\u001b[0m \u001b[38;5;28;01mimport\u001b[39;00m \u001b[38;5;21;01mmatplotlib\u001b[39;00m \u001b[38;5;28;01mas\u001b[39;00m \u001b[38;5;21;01mmpl\u001b[39;00m\n",
      "\u001b[0;31mModuleNotFoundError\u001b[0m: No module named 'tensorflow'"
     ]
    }
   ],
   "source": [
    "import DeepCAT \n",
    "from DeepCAT import batchTrain"
   ]
  },
  {
   "cell_type": "code",
   "execution_count": null,
   "id": "bb64bb07-853d-47c8-92c6-38a69e1cf97c",
   "metadata": {
    "tags": []
   },
   "outputs": [],
   "source": [
    "!pwd"
   ]
  },
  {
   "cell_type": "code",
   "execution_count": null,
   "id": "025954d9-2b68-497a-9bfa-a60c43a58118",
   "metadata": {},
   "outputs": [],
   "source": [
    "import split_train_test\n",
    "split_train_test()"
   ]
  },
  {
   "cell_type": "code",
   "execution_count": 14,
   "id": "06b8988d-043f-47b9-8f06-137239d3546c",
   "metadata": {},
   "outputs": [
    {
     "name": "stdout",
     "output_type": "stream",
     "text": [
      "==============Training cycle 0.=============\n",
      "doing for CDR len 12\n",
      "(4964, 180) (4964,)\n",
      "{'accuracy': 0.789648033126294}\n",
      "==============Training cycle 1.=============\n",
      "doing for CDR len 12\n",
      "(4954, 180) (4954,)\n",
      "{'accuracy': 0.7731958762886598}\n",
      "==============Training cycle 2.=============\n",
      "doing for CDR len 12\n",
      "(4905, 180) (4905,)\n",
      "{'accuracy': 0.7974939369442199}\n",
      "==============Training cycle 3.=============\n",
      "doing for CDR len 12\n",
      "(4992, 180) (4992,)\n",
      "{'accuracy': 0.7947214076246334}\n",
      "==============Training cycle 4.=============\n",
      "doing for CDR len 12\n",
      "(4916, 180) (4916,)\n",
      "{'accuracy': 0.7929354445797807}\n",
      "==============Training cycle 5.=============\n",
      "doing for CDR len 12\n",
      "(4949, 180) (4949,)\n",
      "{'accuracy': 0.7790123456790123}\n",
      "==============Training cycle 6.=============\n",
      "doing for CDR len 12\n",
      "(4925, 180) (4925,)\n",
      "{'accuracy': 0.7897310513447433}\n",
      "==============Training cycle 7.=============\n",
      "doing for CDR len 12\n",
      "(4949, 180) (4949,)\n",
      "{'accuracy': 0.7938271604938272}\n",
      "==============Training cycle 8.=============\n",
      "doing for CDR len 12\n",
      "(4956, 180) (4956,)\n",
      "{'accuracy': 0.7899298390425092}\n",
      "==============Training cycle 9.=============\n",
      "doing for CDR len 12\n",
      "(4920, 180) (4920,)\n",
      "{'accuracy': 0.7812118747458316}\n"
     ]
    }
   ],
   "source": [
    "PredictClassList,PredictLabelList,AUCDictList = batchTrain(\n",
    "    ftumor='TrainingData/TumorCDR3.txt',\n",
    "    n=10, \n",
    "    feval_tumor='TrainingData/TumorCDR3_test.txt', \n",
    "    feval_normal='TrainingData/NormalCDR3_test.txt', \n",
    "    STEPs=20000, \n",
    "    rate=0.33, \n",
    "    fnormal='TrainingData/NormalCDR3.txt',\n",
    "    my_model=True\n",
    ")"
   ]
  },
  {
   "cell_type": "code",
   "execution_count": 15,
   "id": "9e96b105-fbd5-4a11-b5b5-924fb7133729",
   "metadata": {},
   "outputs": [
    {
     "data": {
      "text/plain": [
       "[{12: 0.8476277438436222},\n",
       " {12: 0.8414121264121265},\n",
       " {12: 0.8506800726155566},\n",
       " {12: 0.8554270091480676},\n",
       " {12: 0.8552410811350477},\n",
       " {12: 0.842088616288891},\n",
       " {12: 0.8448202532351629},\n",
       " {12: 0.8528157671430209},\n",
       " {12: 0.8487827413336085},\n",
       " {12: 0.8283106990547435}]"
      ]
     },
     "execution_count": 15,
     "metadata": {},
     "output_type": "execute_result"
    }
   ],
   "source": [
    "AUCDictList"
   ]
  },
  {
   "cell_type": "code",
   "execution_count": null,
   "id": "91d8c5d2-e41d-4ec7-83c6-11cb6410c1ff",
   "metadata": {},
   "outputs": [],
   "source": [
    "'accuracy': 0.789648033126294\n",
    "'accuracy': 0.7731958762886598\n",
    "'accuracy': 0.7974939369442199\n",
    "'accuracy': 0.7947214076246334\n",
    "'accuracy': 0.7929354445797807\n",
    "'accuracy': 0.7790123456790123\n",
    "'accuracy': 0.7897310513447433\n",
    "'accuracy': 0.7938271604938272\n",
    "'accuracy': 0.7899298390425092\n",
    "'accuracy': 0.7812118747458316"
   ]
  },
  {
   "cell_type": "code",
   "execution_count": null,
   "id": "1798e887-0d3a-4629-806c-8a8e924ca491",
   "metadata": {},
   "outputs": [],
   "source": []
  },
  {
   "cell_type": "code",
   "execution_count": null,
   "id": "1152c108-1734-44b5-ae49-2a8bbdf1b8c9",
   "metadata": {
    "tags": []
   },
   "outputs": [],
   "source": [
    "# {'accuracy': 0.73390734, 'loss': 0.5233598, 'global_step': 20000}"
   ]
  },
  {
   "cell_type": "code",
   "execution_count": null,
   "id": "a0c4f75e-891a-4018-b344-5f4f409e68b6",
   "metadata": {},
   "outputs": [],
   "source": []
  },
  {
   "cell_type": "code",
   "execution_count": null,
   "id": "092f1578-fbda-4985-b1a0-5c270b8da86c",
   "metadata": {},
   "outputs": [],
   "source": []
  },
  {
   "cell_type": "code",
   "execution_count": null,
   "id": "c35d2b6d-9560-46c0-895a-8b9c2c20e5da",
   "metadata": {},
   "outputs": [],
   "source": [
    "# Now try with a different dataset (BRCA)"
   ]
  },
  {
   "cell_type": "code",
   "execution_count": null,
   "id": "c8889bbb-6b68-49e2-91a5-9af7e3bc360c",
   "metadata": {},
   "outputs": [
    {
     "name": "stdout",
     "output_type": "stream",
     "text": [
      "==============Training cycle 0.=============\n",
      "doing for CDR len 12\n",
      "(16890, 180) (16890,)\n",
      "{'accuracy': 0.978134110787172}\n",
      "doing for CDR len 13\n",
      "(34698, 195) (34698,)\n"
     ]
    }
   ],
   "source": [
    "PredictClassList,PredictLabelList,AUCDictList = batchTrain(\n",
    "    ftumor='TrainingData/brca_samples_pbmc_train.txt',\n",
    "    n=10, \n",
    "    feval_tumor='TrainingData/brca_samples_pbmc_test.txt', \n",
    "    feval_normal='TrainingData/healthy_samples_test.txt', \n",
    "    STEPs=20000, \n",
    "    rate=0.33, \n",
    "    fnormal='TrainingData/healthy_samples_train.txt',\n",
    "    my_model=True\n",
    ")"
   ]
  },
  {
   "cell_type": "code",
   "execution_count": 1,
   "id": "ed12b080-4888-4e5d-9641-be1f6836e61e",
   "metadata": {},
   "outputs": [],
   "source": []
  },
  {
   "cell_type": "code",
   "execution_count": 4,
   "id": "08d3e558-8438-4e14-b9e0-a3d1abee8363",
   "metadata": {},
   "outputs": [
    {
     "data": {
      "text/plain": [
       "True"
      ]
     },
     "execution_count": 4,
     "metadata": {},
     "output_type": "execute_result"
    }
   ],
   "source": []
  },
  {
   "cell_type": "code",
   "execution_count": null,
   "id": "69fda940-4bbc-491c-bda0-6eda1e7a8614",
   "metadata": {},
   "outputs": [
    {
     "name": "stdout",
     "output_type": "stream",
     "text": [
      "==============Training cycle 0.=============\n",
      "doing for CDR len 12\n",
      "(16858, 180) (16858,)\n",
      "{'accuracy': 0.9776137463697967}\n",
      "doing for CDR len 13\n",
      "(34627, 195) (34627,)\n",
      "{'accuracy': 0.9784550709406201}\n",
      "doing for CDR len 14\n",
      "(38869, 210) (38869,)\n"
     ]
    }
   ],
   "source": [
    "PredictClassfitst,PredictLabelList,AUCDictList = batchTrain(\n",
    "    ftumor='TrainingData/brca_samples_pbmc_train.txt',\n",
    "    n=10, \n",
    "    feval_tumor='TrainingData/brca_samples_pbmc_test.txt', \n",
    "    feval_normal='TrainingData/healthy_samples_test.txt', \n",
    "    STEPs=20000, \n",
    "    rate=0.33, \n",
    "    fnormal='TrainingData/healthy_samples_train.txt',\n",
    "    my_model=True\n",
    ")"
   ]
  },
  {
   "cell_type": "code",
   "execution_count": null,
   "id": "c0e2c9bc-b130-4a38-ba1e-7ce373a15c1e",
   "metadata": {},
   "outputs": [],
   "source": [
    "AUCDictList"
   ]
  },
  {
   "cell_type": "code",
   "execution_count": null,
   "id": "83dc2f64-d626-419a-8de2-96cf8f6a6b1e",
   "metadata": {},
   "outputs": [],
   "source": []
  },
  {
   "cell_type": "code",
   "execution_count": null,
   "id": "ce964996-7e98-4497-8518-aa5fafe17114",
   "metadata": {},
   "outputs": [],
   "source": []
  }
 ],
 "metadata": {
  "kernelspec": {
   "display_name": "Python 3",
   "language": "python",
   "name": "python3"
  },
  "language_info": {
   "codemirror_mode": {
    "name": "ipython",
    "version": 3
   },
   "file_extension": ".py",
   "mimetype": "text/x-python",
   "name": "python",
   "nbconvert_exporter": "python",
   "pygments_lexer": "ipython3",
   "version": "3.9.2"
  }
 },
 "nbformat": 4,
 "nbformat_minor": 5
}
